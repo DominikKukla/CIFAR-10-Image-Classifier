{
 "cells": [
  {
   "cell_type": "code",
   "execution_count": 1,
   "id": "initial_id",
   "metadata": {
    "ExecuteTime": {
     "end_time": "2024-07-14T09:38:14.537467Z",
     "start_time": "2024-07-14T09:38:12.689482Z"
    },
    "collapsed": true
   },
   "outputs": [],
   "source": [
    "import pickle\n",
    "import matplotlib.pyplot as plt\n",
    "import torch\n",
    "import numpy as np\n",
    "from src.Dataset_loader import CustomImageDataset\n",
    "import matplotlib.pyplot as plt\n",
    "\n",
    "def show(img):\n",
    "    img = img/255\n",
    "    plt.imshow(np.transpose(img.numpy(), (1, 2, 0)), interpolation='nearest')\n",
    "    plt.show()\n",
    "    \n",
    "device = \"cuda\" if torch.cuda.is_available() else \"cpu\""
   ]
  },
  {
   "cell_type": "code",
   "execution_count": 2,
   "id": "b06526de",
   "metadata": {},
   "outputs": [
    {
     "data": {
      "text/plain": [
       "'2.3.1+cu121'"
      ]
     },
     "execution_count": 2,
     "metadata": {},
     "output_type": "execute_result"
    }
   ],
   "source": [
    "torch.__version__"
   ]
  },
  {
   "cell_type": "code",
   "execution_count": 3,
   "id": "643cc7d907c1ed8d",
   "metadata": {
    "ExecuteTime": {
     "end_time": "2024-07-14T09:38:31.332683Z",
     "start_time": "2024-07-14T09:38:31.329919Z"
    }
   },
   "outputs": [],
   "source": [
    "CIFAR10_train_dataset = CustomImageDataset()\n",
    "CIFAR10_test_dataset = CustomImageDataset()\n",
    "CIFAR10_train_dataset.load_batch('data/cifar-10-batches-py/data_batch_1')\n",
    "CIFAR10_train_dataset.load_batch('data/cifar-10-batches-py/data_batch_2')\n",
    "CIFAR10_train_dataset.load_batch('data/cifar-10-batches-py/data_batch_3')\n",
    "CIFAR10_train_dataset.load_batch('data/cifar-10-batches-py/data_batch_4')\n",
    "CIFAR10_train_dataset.load_batch('data/cifar-10-batches-py/data_batch_5')\n",
    "\n",
    "CIFAR10_test_dataset.load_batch('data/cifar-10-batches-py/test_batch')\n",
    "\n",
    "train_loader = torch.utils.data.DataLoader(CIFAR10_train_dataset, batch_size=32,\n",
    "                                         shuffle=False, pin_memory=True)\n",
    "\n",
    "test_loader = torch.utils.data.DataLoader(CIFAR10_test_dataset, batch_size=32,\n",
    "                                         shuffle=False, pin_memory=True)"
   ]
  },
  {
   "cell_type": "code",
   "execution_count": 4,
   "id": "3b6acd61",
   "metadata": {
    "ExecuteTime": {
     "end_time": "2024-07-14T09:38:41.050482Z",
     "start_time": "2024-07-14T09:38:41.042542Z"
    }
   },
   "outputs": [],
   "source": [
    "from src.models import Net\n",
    "net = Net()"
   ]
  },
  {
   "cell_type": "code",
   "execution_count": 5,
   "id": "292674454a36b8e7",
   "metadata": {
    "ExecuteTime": {
     "end_time": "2024-07-14T09:38:45.308909Z",
     "start_time": "2024-07-14T09:38:44.224330Z"
    }
   },
   "outputs": [],
   "source": [
    "import torch.optim as optim\n",
    "import torch.nn as nn\n",
    "\n",
    "criterion = nn.CrossEntropyLoss()\n",
    "optimizer = optim.SGD(net.parameters(), lr=0.001, momentum=0.9)"
   ]
  },
  {
   "cell_type": "code",
   "execution_count": 12,
   "id": "93c1ef9f603c15b2",
   "metadata": {
    "ExecuteTime": {
     "end_time": "2024-07-14T09:44:46.796146Z",
     "start_time": "2024-07-14T09:42:52.872059Z"
    }
   },
   "outputs": [
    {
     "name": "stdout",
     "output_type": "stream",
     "text": [
      "[2,   500] loss: 2.192\n",
      "[2,  1000] loss: 1.936\n",
      "[2,  1500] loss: 1.762\n",
      "[3,   500] loss: 1.677\n",
      "[3,  1000] loss: 1.593\n",
      "[3,  1500] loss: 1.560\n",
      "[4,   500] loss: 1.517\n",
      "[4,  1000] loss: 1.457\n",
      "[4,  1500] loss: 1.462\n",
      "[5,   500] loss: 1.433\n",
      "[5,  1000] loss: 1.379\n",
      "[5,  1500] loss: 1.405\n",
      "[6,   500] loss: 1.367\n",
      "[6,  1000] loss: 1.323\n",
      "[6,  1500] loss: 1.349\n",
      "[7,   500] loss: 1.310\n",
      "[7,  1000] loss: 1.283\n",
      "[7,  1500] loss: 1.306\n",
      "[8,   500] loss: 1.269\n",
      "[8,  1000] loss: 1.232\n",
      "[8,  1500] loss: 1.258\n",
      "[9,   500] loss: 1.227\n",
      "[9,  1000] loss: 1.206\n",
      "[9,  1500] loss: 1.240\n",
      "[10,   500] loss: 1.222\n",
      "[10,  1000] loss: 1.190\n",
      "[10,  1500] loss: 1.240\n",
      "[11,   500] loss: 1.203\n",
      "[11,  1000] loss: 1.173\n",
      "[11,  1500] loss: 1.211\n",
      "Finished Training\n"
     ]
    }
   ],
   "source": [
    "epochs = np.arange(1, 11)\n",
    "losses_train = list()\n",
    "losses_test = list()\n",
    "for epoch in epochs:  # loop over the dataset multiple times\n",
    "    epoch_loss_train = 0\n",
    "    running_loss = 0.0\n",
    "    for i, data in enumerate(train_loader, 0):\n",
    "        # Get the inputs; data is a list of [inputs, labels]\n",
    "        inputs, labels = data\n",
    "\n",
    "        # Zero the parameter gradients\n",
    "        optimizer.zero_grad()\n",
    "\n",
    "        # Forward + backward + optimize\n",
    "        outputs = net(inputs)\n",
    "        loss = criterion(outputs, labels)\n",
    "        loss.backward()\n",
    "        optimizer.step()\n",
    "\n",
    "        # Print statistics\n",
    "        running_loss += loss.item()\n",
    "        epoch_loss_train += loss.item()\n",
    "        if i % 500 == 499:    # Print every 2000 mini-batches\n",
    "            print(f'[{epoch + 1}, {i + 1:5d}] loss: {running_loss / 500:.3f}')\n",
    "            running_loss = 0.0\n",
    "    epoch_loss_test = 0\n",
    "    with torch.no_grad():\n",
    "        for data in test_loader:\n",
    "            images, labels = data\n",
    "            outputs = net(images)\n",
    "            loss = criterion(outputs, labels)\n",
    "            epoch_loss_test += loss.item()\n",
    "    losses_train.append(epoch_loss_train/len(train_loader))\n",
    "    losses_test.append(epoch_loss_test/len(test_loader))\n",
    "    \n",
    "\n",
    "print('Finished Training')\n"
   ]
  },
  {
   "cell_type": "code",
   "execution_count": 13,
   "id": "1d73db89",
   "metadata": {},
   "outputs": [
    {
     "data": {
      "image/png": "[encoded data removed]",
      "text/plain": [
       "<Figure size 640x480 with 1 Axes>"
      ]
     },
     "metadata": {},
     "output_type": "display_data"
    }
   ],
   "source": [
    "plt.plot(epochs, losses_train, color='r')\n",
    "plt.plot(epochs, losses_test, color='b');"
   ]
  },
  {
   "cell_type": "code",
   "execution_count": 15,
   "id": "c91430c4",
   "metadata": {},
   "outputs": [
    {
     "name": "stdout",
     "output_type": "stream",
     "text": [
      "[13,   500] loss: 1.203\n",
      "[13,  1000] loss: 1.153\n",
      "[13,  1500] loss: 1.177\n",
      "[14,   500] loss: 1.170\n",
      "[14,  1000] loss: 1.111\n",
      "[14,  1500] loss: 1.158\n",
      "[15,   500] loss: 1.138\n",
      "[15,  1000] loss: 1.093\n",
      "[15,  1500] loss: 1.154\n",
      "[16,   500] loss: 1.112\n",
      "[16,  1000] loss: 1.089\n",
      "[16,  1500] loss: 1.154\n",
      "[17,   500] loss: 1.106\n",
      "[17,  1000] loss: 1.098\n",
      "[17,  1500] loss: 1.150\n",
      "[18,   500] loss: 1.129\n",
      "[18,  1000] loss: 1.120\n",
      "[18,  1500] loss: 1.113\n",
      "[19,   500] loss: 1.117\n",
      "[19,  1000] loss: 1.111\n",
      "[19,  1500] loss: 1.116\n",
      "[20,   500] loss: 1.117\n",
      "[20,  1000] loss: 1.066\n",
      "[20,  1500] loss: 1.055\n",
      "[21,   500] loss: 1.117\n",
      "[21,  1000] loss: 1.049\n",
      "[21,  1500] loss: 1.041\n",
      "[22,   500] loss: 1.085\n",
      "[22,  1000] loss: 1.051\n",
      "[22,  1500] loss: 1.080\n",
      "[23,   500] loss: 1.078\n",
      "[23,  1000] loss: 1.051\n",
      "[23,  1500] loss: 1.055\n",
      "[24,   500] loss: 1.064\n",
      "[24,  1000] loss: 1.034\n",
      "[24,  1500] loss: 1.064\n",
      "[25,   500] loss: 1.061\n",
      "[25,  1000] loss: 1.050\n",
      "[25,  1500] loss: 1.066\n",
      "Finished Training\n"
     ]
    }
   ],
   "source": [
    "epochs = np.append(epochs, np.arange(12, 25))\n",
    "for epoch in np.arange(12, 25):  # loop over the dataset multiple times\n",
    "    epoch_loss_train = 0\n",
    "    running_loss = 0.0\n",
    "    for i, data in enumerate(train_loader, 0):\n",
    "        # Get the inputs; data is a list of [inputs, labels]\n",
    "        inputs, labels = data\n",
    "\n",
    "        # Zero the parameter gradients\n",
    "        optimizer.zero_grad()\n",
    "\n",
    "        # Forward + backward + optimize\n",
    "        outputs = net(inputs)\n",
    "        loss = criterion(outputs, labels)\n",
    "        loss.backward()\n",
    "        optimizer.step()\n",
    "\n",
    "        # Print statistics\n",
    "        running_loss += loss.item()\n",
    "        epoch_loss_train += loss.item()\n",
    "        if i % 500 == 499:    # Print every 2000 mini-batches\n",
    "            print(f'[{epoch + 1}, {i + 1:5d}] loss: {running_loss / 500:.3f}')\n",
    "            running_loss = 0.0\n",
    "    epoch_loss_test = 0\n",
    "    with torch.no_grad():\n",
    "        for data in test_loader:\n",
    "            images, labels = data\n",
    "            outputs = net(images)\n",
    "            loss = criterion(outputs, labels)\n",
    "            epoch_loss_test += loss.item()\n",
    "    losses_train.append(epoch_loss_train/len(train_loader))\n",
    "    losses_test.append(epoch_loss_test/len(test_loader))\n",
    "    \n",
    "\n",
    "print('Finished Training')"
   ]
  },
  {
   "cell_type": "code",
   "execution_count": 16,
   "id": "5a333f42",
   "metadata": {},
   "outputs": [
    {
     "data": {
      "image/png": "[encoded data removed]",
      "text/plain": [
       "<Figure size 640x480 with 1 Axes>"
      ]
     },
     "metadata": {},
     "output_type": "display_data"
    }
   ],
   "source": [
    "plt.plot(epochs, losses_train, color='r')\n",
    "plt.plot(epochs, losses_test, color='b');"
   ]
  },
  {
   "cell_type": "code",
   "execution_count": 11,
   "id": "242f84fe",
   "metadata": {},
   "outputs": [
    {
     "name": "stdout",
     "output_type": "stream",
     "text": [
      "Loss of the network on test images: 3.328\n"
     ]
    }
   ],
   "source": [
    "epoch_loss = 0\n",
    "with torch.no_grad():\n",
    "    for data in test_loader:\n",
    "        images, labels = data\n",
    "        outputs = net(images)\n",
    "        loss = criterion(outputs, labels)\n",
    "        epoch_loss += loss.item()\n",
    "        \n",
    "\n",
    "print(f'Loss of the network on test images: {epoch_loss/len(test_loader):.3f}')\n"
   ]
  }
 ],
 "metadata": {
  "kernelspec": {
   "display_name": "Python 3",
   "language": "python",
   "name": "python3"
  },
  "language_info": {
   "codemirror_mode": {
    "name": "ipython",
    "version": 3
   },
   "file_extension": ".py",
   "mimetype": "text/x-python",
   "name": "python",
   "nbconvert_exporter": "python",
   "pygments_lexer": "ipython3",
   "version": "3.11.4"
  }
 },
 "nbformat": 4,
 "nbformat_minor": 5
}
