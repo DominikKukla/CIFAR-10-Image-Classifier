{
 "cells": [
  {
   "cell_type": "code",
   "id": "initial_id",
   "metadata": {
    "collapsed": true,
    "ExecuteTime": {
     "end_time": "2024-07-11T17:34:40.524522Z",
     "start_time": "2024-07-11T17:34:35.644178Z"
    }
   },
   "source": [
    "import pickle\n",
    "import matplotlib.pyplot as plt\n",
    "import torch\n",
    "import numpy as np\n",
    "from src.Dataset_loader import unpickle, CustomImageDataset\n",
    "\n",
    "def show(img):\n",
    "    img = img/255\n",
    "    plt.imshow(np.transpose(img.numpy(), (1, 2, 0)), interpolation='nearest')\n",
    "    plt.show()\n"
   ],
   "outputs": [],
   "execution_count": 1
  },
  {
   "metadata": {
    "ExecuteTime": {
     "end_time": "2024-07-11T17:34:40.529826Z",
     "start_time": "2024-07-11T17:34:40.526602Z"
    }
   },
   "cell_type": "code",
   "source": [
    "CIFAR10_train_dataset = CustomImageDataset()\n",
    "CIFAR10_test_dataset = CustomImageDataset()"
   ],
   "id": "643cc7d907c1ed8d",
   "outputs": [],
   "execution_count": 2
  },
  {
   "cell_type": "code",
   "id": "84c959fc",
   "metadata": {
    "ExecuteTime": {
     "end_time": "2024-07-11T17:34:43.428336Z",
     "start_time": "2024-07-11T17:34:40.530833Z"
    }
   },
   "source": [
    "CIFAR10_train_dataset.load_batch('data/cifar-10-batches-py/data_batch_1')\n",
    "CIFAR10_train_dataset.load_batch('data/cifar-10-batches-py/data_batch_2')\n",
    "CIFAR10_train_dataset.load_batch('data/cifar-10-batches-py/data_batch_3')\n",
    "CIFAR10_train_dataset.load_batch('data/cifar-10-batches-py/data_batch_4')\n",
    "CIFAR10_train_dataset.load_batch('data/cifar-10-batches-py/data_batch_5')"
   ],
   "outputs": [],
   "execution_count": 3
  },
  {
   "metadata": {
    "ExecuteTime": {
     "end_time": "2024-07-11T17:34:43.983125Z",
     "start_time": "2024-07-11T17:34:43.429628Z"
    }
   },
   "cell_type": "code",
   "source": "CIFAR10_test_dataset.load_batch('data/cifar-10-batches-py/test_batch')",
   "id": "f4a4e4519b7e2972",
   "outputs": [],
   "execution_count": 4
  },
  {
   "metadata": {
    "ExecuteTime": {
     "end_time": "2024-07-11T17:35:17.048041Z",
     "start_time": "2024-07-11T17:35:17.044223Z"
    }
   },
   "cell_type": "code",
   "source": [
    "train_loader = torch.utils.data.DataLoader(CIFAR10_train_dataset, batch_size=32,\n",
    "                                         shuffle=False, num_workers=2)"
   ],
   "id": "5fc2e7da17ab3b7c",
   "outputs": [],
   "execution_count": 5
  },
  {
   "metadata": {
    "ExecuteTime": {
     "end_time": "2024-07-11T17:35:46.264761Z",
     "start_time": "2024-07-11T17:35:46.260364Z"
    }
   },
   "cell_type": "code",
   "source": [
    "test_loader = torch.utils.data.DataLoader(CIFAR10_test_dataset, batch_size=32,\n",
    "                                         shuffle=False, num_workers=2)"
   ],
   "id": "2a1dfd243f6d3d2b",
   "outputs": [],
   "execution_count": 6
  },
  {
   "cell_type": "code",
   "id": "3b6acd61",
   "metadata": {
    "ExecuteTime": {
     "end_time": "2024-07-10T18:08:06.781090Z",
     "start_time": "2024-07-10T18:08:06.774816Z"
    }
   },
   "source": [
    "from torch import nn, optim\n",
    "import torch.nn.functional as F\n"
   ],
   "outputs": [],
   "execution_count": 61
  }
 ],
 "metadata": {
  "kernelspec": {
   "display_name": "Python 3",
   "language": "python",
   "name": "python3"
  },
  "language_info": {
   "codemirror_mode": {
    "name": "ipython",
    "version": 3
   },
   "file_extension": ".py",
   "mimetype": "text/x-python",
   "name": "python",
   "nbconvert_exporter": "python",
   "pygments_lexer": "ipython3",
   "version": "3.11.4"
  }
 },
 "nbformat": 4,
 "nbformat_minor": 5
}
