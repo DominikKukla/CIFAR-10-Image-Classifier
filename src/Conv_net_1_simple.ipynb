{
 "cells": [
  {
   "cell_type": "code",
   "execution_count": 1,
   "metadata": {},
   "outputs": [],
   "source": [
    "import sys\n",
    "sys.path.append('..')\n",
    "import matplotlib.pyplot as plt\n",
    "import torch\n",
    "import numpy as np\n",
    "from utils.Dataset import CustomImageDataset\n",
    "import time\n",
    "from utils.models import ResNet18\n",
    "from utils.utils import set_seed, show, class_number_to_name\n",
    "import torch.optim as optim\n",
    "import torch.nn as nn\n",
    "device = \"cuda\" if torch.cuda.is_available() else \"cpu\""
   ]
  },
  {
   "cell_type": "code",
   "execution_count": 2,
   "metadata": {},
   "outputs": [
    {
     "ename": "TypeError",
     "evalue": "string indices must be integers, not 'bytes'",
     "output_type": "error",
     "traceback": [
      "\u001b[1;31m---------------------------------------------------------------------------\u001b[0m",
      "\u001b[1;31mTypeError\u001b[0m                                 Traceback (most recent call last)",
      "Cell \u001b[1;32mIn[2], line 5\u001b[0m\n\u001b[0;32m      2\u001b[0m validation_set \u001b[38;5;241m=\u001b[39m CustomImageDataset()\n\u001b[0;32m      3\u001b[0m test_set \u001b[38;5;241m=\u001b[39m CustomImageDataset()\n\u001b[1;32m----> 5\u001b[0m \u001b[43mtrain_set\u001b[49m\u001b[38;5;241;43m.\u001b[39;49m\u001b[43mload_batch\u001b[49m\u001b[43m(\u001b[49m\u001b[38;5;124;43m'\u001b[39;49m\u001b[38;5;124;43mdata/cifar-10-batches-py/data_batch_1\u001b[39;49m\u001b[38;5;124;43m'\u001b[39;49m\u001b[43m)\u001b[49m\n\u001b[0;32m      6\u001b[0m train_set\u001b[38;5;241m.\u001b[39mload_batch(\u001b[38;5;124m'\u001b[39m\u001b[38;5;124mdata/cifar-10-batches-py/data_batch_2\u001b[39m\u001b[38;5;124m'\u001b[39m)\n\u001b[0;32m      7\u001b[0m train_set\u001b[38;5;241m.\u001b[39mload_batch(\u001b[38;5;124m'\u001b[39m\u001b[38;5;124mdata/cifar-10-batches-py/data_batch_3\u001b[39m\u001b[38;5;124m'\u001b[39m)\n",
      "File \u001b[1;32mc:\\Users\\dimpi\\Desktop\\Projects\\CIFAR-10 Image Classifier\\src\\..\\utils\\Dataset_loader.py:45\u001b[0m, in \u001b[0;36mCustomImageDataset.load_batch\u001b[1;34m(self, batch_path)\u001b[0m\n\u001b[0;32m     43\u001b[0m batch \u001b[38;5;241m=\u001b[39m unpickle(batch_path)\n\u001b[0;32m     44\u001b[0m \u001b[38;5;28;01mtry\u001b[39;00m:\n\u001b[1;32m---> 45\u001b[0m     \u001b[38;5;28;01mfor\u001b[39;00m i \u001b[38;5;129;01min\u001b[39;00m \u001b[38;5;28mrange\u001b[39m(\u001b[38;5;28mlen\u001b[39m(\u001b[43mbatch\u001b[49m\u001b[43m[\u001b[49m\u001b[38;5;124;43mb\u001b[39;49m\u001b[38;5;124;43m'\u001b[39;49m\u001b[38;5;124;43mlabels\u001b[39;49m\u001b[38;5;124;43m'\u001b[39;49m\u001b[43m]\u001b[49m)):\n\u001b[0;32m     46\u001b[0m         red_channel \u001b[38;5;241m=\u001b[39m torch\u001b[38;5;241m.\u001b[39mTensor(batch[\u001b[38;5;124mb\u001b[39m\u001b[38;5;124m'\u001b[39m\u001b[38;5;124mdata\u001b[39m\u001b[38;5;124m'\u001b[39m][i][:\u001b[38;5;241m1024\u001b[39m])\u001b[38;5;241m.\u001b[39mview(\u001b[38;5;241m32\u001b[39m, \u001b[38;5;241m32\u001b[39m)\n\u001b[0;32m     47\u001b[0m         green_channel \u001b[38;5;241m=\u001b[39m torch\u001b[38;5;241m.\u001b[39mTensor(batch[\u001b[38;5;124mb\u001b[39m\u001b[38;5;124m'\u001b[39m\u001b[38;5;124mdata\u001b[39m\u001b[38;5;124m'\u001b[39m][i][\u001b[38;5;241m1024\u001b[39m:\u001b[38;5;241m2048\u001b[39m])\u001b[38;5;241m.\u001b[39mview(\u001b[38;5;241m32\u001b[39m, \u001b[38;5;241m32\u001b[39m)\n",
      "\u001b[1;31mTypeError\u001b[0m: string indices must be integers, not 'bytes'"
     ]
    }
   ],
   "source": [
    "train_set = CustomImageDataset()\n",
    "validation_set = CustomImageDataset()\n",
    "test_set = CustomImageDataset()\n",
    "\n",
    "train_set.load_batch('data/cifar-10-batches-py/data_batch_1')\n",
    "train_set.load_batch('data/cifar-10-batches-py/data_batch_2')\n",
    "train_set.load_batch('data/cifar-10-batches-py/data_batch_3')\n",
    "train_set.load_batch('data/cifar-10-batches-py/data_batch_4')\n",
    "validation_set.load_batch('data/cifar-10-batches-py/data_batch_5')\n",
    "\n",
    "test_set.load_batch('data/cifar-10-batches-py/test_batch')\n",
    "\n",
    "train_loader = torch.utils.data.DataLoader(train_set, batch_size=32,\n",
    "                                         shuffle=True, pin_memory=True)\n",
    "\n",
    "validation_loader = torch.utils.data.DataLoader(validation_set, batch_size=32,\n",
    "                                         shuffle=True, pin_memory=True)\n",
    "\n",
    "test_loader = torch.utils.data.DataLoader(test_set, batch_size=32,\n",
    "                                         shuffle=True, pin_memory=True)"
   ]
  }
 ],
 "metadata": {
  "kernelspec": {
   "display_name": "Python 3",
   "language": "python",
   "name": "python3"
  },
  "language_info": {
   "codemirror_mode": {
    "name": "ipython",
    "version": 3
   },
   "file_extension": ".py",
   "mimetype": "text/x-python",
   "name": "python",
   "nbconvert_exporter": "python",
   "pygments_lexer": "ipython3",
   "version": "3.11.4"
  }
 },
 "nbformat": 4,
 "nbformat_minor": 2
}
